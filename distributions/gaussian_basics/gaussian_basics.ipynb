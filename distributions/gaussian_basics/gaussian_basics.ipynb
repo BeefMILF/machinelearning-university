{
 "cells": [
  {
   "cell_type": "markdown",
   "metadata": {},
   "source": [
    "# THE NORMAL DISTRIBUTION\n",
    "\n",
    "*Notes by Andres F.R.*"
   ]
  },
  {
   "cell_type": "markdown",
   "metadata": {},
   "source": [
    "--------------"
   ]
  },
  {
   "cell_type": "markdown",
   "metadata": {},
   "source": [
    "TODO:\n",
    "\n",
    "* PDF and CDF for uni and multivariate\n",
    "* Expected value and variance\n",
    "* GMM\n",
    "* KL divergence between 2 gaussians (from simple case to GMM multivar)"
   ]
  },
  {
   "cell_type": "code",
   "execution_count": 1,
   "metadata": {},
   "outputs": [
    {
     "name": "stdout",
     "output_type": "stream",
     "text": [
      "ok\n"
     ]
    }
   ],
   "source": [
    "import torch\n",
    "#import pyro\n",
    "#import pgmpy\n",
    "import matplotlib\n",
    "print(\"ok\")"
   ]
  },
  {
   "cell_type": "markdown",
   "metadata": {},
   "source": [
    "--------------"
   ]
  },
  {
   "cell_type": "markdown",
   "metadata": {},
   "source": [
    "# PDF\n",
    "\n",
    "### Univariate:\n",
    "\n",
    "$\n",
    "\\mathcal{N}(x; \\mu, \\sigma) = \\frac{1}{\\sqrt{2\\pi \\sigma^2}} e^{-\\frac{(x-\\mu)^2}{2\\sigma^2}}\n",
    "$\n",
    "\n",
    "Note that $(x-\\mu)^2$ is the square of the **euclidean distance** from $\\mu$ to x.\n",
    "\n",
    "### Multivariate:\n",
    "\n",
    "For $x,\\, \\mu \\, \\in \\mathbb{R}^D, \\quad S \\, \\in \\mathbb{R}^{D\\times D}$ (positive semidefinite).\n",
    "\n",
    "$\n",
    "\\mathcal{N}(x; \\mu, S) = \\frac{1}{\\sqrt{(2\\pi)^D |S|}} e^{-\\frac{(x-\\mu)^T S^{-1} (x-\\mu)}{2\\sigma^2}}\n",
    "$\n",
    "\n",
    "\n",
    "Note that $(x-\\mu)^T \\Sigma^{-1} (x-\\mu)$ is the square of the **Mahalanobis distance** from $\\mu$ to x. If $\\Sigma$ is the identity matrix, this equals the euclidean distance. Also, $|S|$ is the determinant of $S$."
   ]
  },
  {
   "cell_type": "markdown",
   "metadata": {},
   "source": [
    "# CDF\n",
    "\n",
    "### Univariate:\n",
    "\n",
    "Note that in this case $\\Phi$ refers to any gaussian, not only the standard. Also note that there is no closed form for the integral, but there are [numerical approximations](https://en.wikipedia.org/wiki/Normal_distribution#Numerical_approximations_for_the_normal_CDF).\n",
    "\n",
    "$\n",
    "\\Phi(a; \\mu, \\sigma) = P(\\mathcal{N}(x; \\mu, \\sigma) \\leq a) = \\int_{-\\infty}^{a} \\mathcal{N}(x; \\mu, \\sigma) dx\n",
    "$\n",
    "\n",
    "\n",
    "## CCDF\n",
    "\n",
    "Complementary CDF, also \"tail distribution\" or \"excedance\":\n",
    "\n",
    "$\n",
    "\\bar{\\Phi}(a; \\mu, \\sigma) = P(\\mathcal{N}(x; \\mu, \\sigma) \\geq a) = \\int_{a}^{\\infty} \\mathcal{N}(x; \\mu, \\sigma) dx = 1 - \\Phi(a; \\mu, \\sigma)\n",
    "$\n"
   ]
  },
  {
   "cell_type": "markdown",
   "metadata": {},
   "source": [
    "# EXPECTED VALUE\n",
    "\n",
    "Note that for any PDF $f(x)$:\n",
    "\n",
    "$\n",
    "\\mathbb{E}[f] = \\int_{-\\infty}^{\\infty} x \\cdot f(x) dx\n",
    "$\n",
    "\n",
    "### Univariate:\n",
    "\n",
    "\n",
    "$$\n",
    "\\begin{align}\n",
    "\\mathbb{E}[\\mathcal{N}(x; \\mu, \\sigma)] &= \\int_{-\\infty}^{\\infty} x \\cdot \\mathcal{N}(x; \\mu, \\sigma) dx \\\\\n",
    "   &= \\int_{-\\infty}^{\\infty} x \\cdot \\frac{1}{\\sqrt{2\\pi \\sigma^2}} e^{-\\frac{(x-\\mu)^2}{2\\sigma^2}} dx\\\\\n",
    "   &\\text{we substitute }z := x-\\mu \\text{ (dz doesn't get affected by this transformation)}\\\\\n",
    "   &= \\int_{-\\infty}^{\\infty} (z+\\mu) \\cdot \\frac{1}{\\sqrt{2\\pi \\sigma^2}} e^{-\\frac{z^2}{2\\sigma^2}} dz \\\\\n",
    "   &= \\int_{-\\infty}^{\\infty} z \\cdot \\frac{1}{\\sqrt{2\\pi \\sigma^2}} e^{-\\frac{z^2}{2\\sigma^2}} dz + \\int_{-\\infty}^{\\infty} \\mu \\cdot \\frac{1}{\\sqrt{2\\pi \\sigma^2}} e^{-\\frac{z^2}{2\\sigma^2}} dz\\\\\n",
    "   &\\text{first integral has odd symmetry, thus vanishes}\\\\\n",
    "   &= 0 + \\mu \\int_{-\\infty}^{\\infty} \\cdot \\frac{1}{\\sqrt{2\\pi \\sigma^2}} e^{-\\frac{z^2}{2\\sigma^2}} dz \\\\\n",
    "   &\\text{Integral of a PDF (gaussian) is 1}\\\\\n",
    "   &= 0 + \\mu \\cdot 1\\\\\n",
    "   &= \\mu\n",
    "\\end{align}\n",
    "$$\n",
    "$\\square$\n",
    "\n",
    "### Multivariate:\n",
    "\n",
    "$$\n",
    "\\begin{align}\n",
    "\\mathbb{E}[\\mathcal{N}(x; \\mu, S)] &= \\int_{-\\infty}^{\\infty} x \\cdot \\mathcal{N}(x; \\mu, S) dx \\\\\n",
    "   &= \\int_{-\\infty}^{\\infty} x \\cdot \\frac{1}{\\sqrt{(2\\pi)^D |S|}} e^{-\\frac{(x-\\mu)^T S^{-1} (x-\\mu)}{2\\sigma^2}} dx\\\\\n",
    "   &\\text{we substitute }z := x-\\mu\\\\\n",
    "   &= \\int_{-\\infty}^{\\infty} (z+\\mu) \\cdot \\frac{1}{\\sqrt{(2\\pi)^D |S|}} e^{-\\frac{z^T S^{-1} z}{2\\sigma^2}}  dz \\\\\n",
    "   &= \\int_{-\\infty}^{\\infty} z \\cdot \\frac{1}{\\sqrt{(2\\pi)^D |S|}} e^{-\\frac{z^T S^{-1} z}{2\\sigma^2}}  dz + \\int_{-\\infty}^{\\infty} \\mu \\cdot \\frac{1}{\\sqrt{(2\\pi)^D |S|}} e^{-\\frac{z^T S^{-1} z}{2\\sigma^2}}  \\\\\n",
    "   &\\text{first integral has odd symmetry, thus vanishes}\\\\\n",
    "   &= 0 + \\mu \\int_{-\\infty}^{\\infty} \\cdot \\frac{1}{\\sqrt{2\\pi \\sigma^2}} e^{-\\frac{z^2}{2\\sigma^2}} dz \\\\\n",
    "   &\\text{Integral of a PDF (gaussian) is 1}\\\\\n",
    "   &= 0 + \\mu \\cdot 1\\\\\n",
    "   &= \\mu\n",
    "\\end{align}\n",
    "$$\n",
    "\n",
    "\n"
   ]
  },
  {
   "cell_type": "markdown",
   "metadata": {},
   "source": [
    "# VARIANCE\n",
    "\n",
    "Note that for any PDF $f(x)$:\n",
    "\n",
    "$\n",
    "Var(f) = \\mathbb{E}[(f-\\mathbb{E}[f])^2] = \\int_{-\\infty}^{\\infty} (x - \\mu)^2 \\cdot f(x) dx\n",
    "$\n",
    "\n",
    "Where $\\mu := \\mathbb{E}[f]$.\n",
    "\n",
    "\n",
    "Also note that $Var(f) = \\mathbb{E}[f^2] - \\mathbb{E}[f]^2$ (see proof below)\n",
    "\n",
    "\n",
    "\n",
    "### Univariate:\n",
    "\n",
    "\n",
    "$$\n",
    "\\begin{align}\n",
    "Var(\\mathcal{N}(x; \\mu, \\sigma)) &= \\mathbb{E}[\\mathcal{N}^2] - \\mu^2 \\\\\n",
    "   &= \\int_{-\\infty}^{\\infty} x^2 \\cdot \\frac{1}{\\sqrt{2\\pi \\sigma^2}} e^{-\\frac{(x-\\mu)^2}{2\\sigma^2}} dx - \\mu^2\\\\\n",
    "   &= \\frac{1}{\\sqrt{2\\pi \\sigma^2}} \\int_{-\\infty}^{\\infty} x^2  e^{-\\frac{(x-\\mu)^2}{2\\sigma^2}} dx - \\mu^2\\\\\n",
    "   &\\text{we substitute }z := \\frac{(x-\\mu)}{\\sqrt(2)\\sigma} \\text{  and therefore } x:=\\sqrt{2}\\sigma z + \\mu, \\; dx = \\sqrt{2}\\sigma dz \\\\\n",
    "   &= \\frac{\\sqrt{2} \\sigma}{\\sqrt{2\\pi \\sigma^2}} \\int_{-\\infty}^{\\infty} (\\sqrt{2}\\sigma z + \\mu)^2  e^{-z^2} dz - \\mu^2 \\\\\n",
    "   &= \\frac{1}{\\sqrt{\\pi}} \\int_{-\\infty}^{\\infty} (\\sqrt{2}\\sigma z + \\mu)^2  e^{-z^2} dz - \\mu^2 \\\\\n",
    "   &= \\frac{1}{\\sqrt{\\pi}} \\Bigg[ \\int_{-\\infty}^{\\infty} 2\\sigma^2 z^2 \\cdot e^{-z^2} dz +  \\int_{-\\infty}^{\\infty} 2\\sqrt{2}\\sigma z \\mu \\cdot  e^{-z^2} dz + \\int_{-\\infty}^{\\infty} \\mu^2 \\cdot e^{-z^2} dz \\Bigg] - \\mu^2 \\\\\n",
    "   &= \\frac{1}{\\sqrt{\\pi}} \\Bigg[ 2\\sigma^2 \\int_{-\\infty}^{\\infty}  z^2  e^{-z^2} dz + 2\\sqrt{2}\\sigma \\mu \\int_{-\\infty}^{\\infty}  z   e^{-z^2} dz + \\mu^2 \\int_{-\\infty}^{\\infty}  e^{-z^2} dz \\Bigg] - \\mu^2 \\\\\n",
    "    &\\text{Gaussian integral}\\\\\n",
    "    &= \\frac{1}{\\sqrt{\\pi}} \\Bigg[ 2\\sigma^2 \\int_{-\\infty}^{\\infty}  z^2  e^{-z^2} dz + 2\\sqrt{2}\\sigma \\mu \\int_{-\\infty}^{\\infty}  z   e^{-z^2} dz + \\mu^2 \\sqrt{\\pi} \\Bigg] - \\mu^2 \\\\\n",
    "    &\\text{mid integral has odd symmetry and vanishes}\\\\\n",
    "    &= \\frac{1}{\\sqrt{\\pi}} \\Bigg[ 2\\sigma^2 \\int_{-\\infty}^{\\infty}  z^2  e^{-z^2} dz + 2\\sqrt{2}\\sigma \\mu \\cdot 0 + \\mu^2 \\sqrt{\\pi} \\Bigg] - \\mu^2 \\\\\n",
    "     &= \\frac{1}{\\sqrt{\\pi}} \\Bigg[ 2\\sigma^2 \\int_{-\\infty}^{\\infty}  z^2  e^{-z^2} dz \\Bigg] + \\mu^2 - \\mu^2 \\\\\n",
    "     &= \\frac{2\\sigma^2 }{\\sqrt{\\pi}} \\int_{-\\infty}^{\\infty}  z^2  e^{-z^2} dz\\\\\n",
    "     &\\text{int. by parts: } u := z,\\; v=ze^{-z^2}\\\\\n",
    "         &= \\frac{2\\sigma^2 }{\\sqrt{\\pi}} \\Bigg[ \\, \\Big| t \\cdot \\frac{-e^{-z^2}}{2} \\Big|_{-\\infty}^{\\infty} - \\int_{-\\infty}^{\\infty} 1 \\cdot \\frac{-e^{-z^2}}{2} dz \\Bigg]\\\\\n",
    "     &\\text{First integral has odd symmetry and vanishes, second is Gaussian int.}\\\\\n",
    "     &= \\frac{2\\sigma^2 }{\\sqrt{\\pi}} \\frac{\\sqrt{\\pi}}{2} \\; = \\; \\sigma^2\\\\\n",
    "\\end{align}\n",
    "$$\n",
    "\n",
    "### Multivariate:\n",
    "\n",
    "\n",
    "\n"
   ]
  },
  {
   "cell_type": "markdown",
   "metadata": {},
   "source": [
    "--------------"
   ]
  },
  {
   "cell_type": "markdown",
   "metadata": {},
   "source": [
    "# MISC PROOFS\n",
    "\n",
    "\n",
    "### $Var(f) = \\mathbb{E}[f^2] - \\mathbb{E}[f]^2$\n",
    "\n",
    "This holds because of the linearity of $\\mathbb{E}$:\n",
    "\n",
    "$$\n",
    "\\begin{align}\n",
    "\\mathbb{E}[(f-\\mu)^2] &= \\int_{-\\infty}^{\\infty} (x-\\mu)^2 f(x) dx \\\\\n",
    "   &= \\int_{-\\infty}^{\\infty} x^2 f(x) dx + \\mu^2 \\int_{-\\infty}^{\\infty} f(x) dx - 2\\mu \\int_{-\\infty}^{\\infty} x f(x) dx \\\\\n",
    "   &= \\mathbb{E}[f^2] + \\mu^2 \\cdot 1 -2\\mu \\cdot \\mathbb{E}[f]\\\\\n",
    "   &= \\mathbb{E}[f^2] + \\mu^2 -2\\mu^2 = \\mathbb{E}[f^2] - \\mu^2\\\\\n",
    "\\end{align}\n",
    "$$\n",
    "$\\square$"
   ]
  },
  {
   "cell_type": "markdown",
   "metadata": {},
   "source": [
    "--------------"
   ]
  },
  {
   "cell_type": "code",
   "execution_count": 5,
   "metadata": {},
   "outputs": [
    {
     "name": "stdout",
     "output_type": "stream",
     "text": [
      "1\n"
     ]
    }
   ],
   "source": [
    "test = 1\n",
    "print(test)"
   ]
  },
  {
   "cell_type": "markdown",
   "metadata": {},
   "source": [
    "--------------"
   ]
  },
  {
   "cell_type": "markdown",
   "metadata": {},
   "source": [
    "$\\alpha=\\beta$"
   ]
  },
  {
   "cell_type": "code",
   "execution_count": 5,
   "metadata": {},
   "outputs": [
    {
     "name": "stdout",
     "output_type": "stream",
     "text": [
      "1\n"
     ]
    }
   ],
   "source": [
    "test = 1\n",
    "print(test)"
   ]
  },
  {
   "cell_type": "markdown",
   "metadata": {},
   "source": [
    "--------------"
   ]
  },
  {
   "cell_type": "markdown",
   "metadata": {},
   "source": [
    "$\\alpha=\\beta$"
   ]
  },
  {
   "cell_type": "code",
   "execution_count": 5,
   "metadata": {},
   "outputs": [
    {
     "name": "stdout",
     "output_type": "stream",
     "text": [
      "1\n"
     ]
    }
   ],
   "source": [
    "test = 1\n",
    "print(test)"
   ]
  },
  {
   "cell_type": "markdown",
   "metadata": {},
   "source": [
    "--------------"
   ]
  },
  {
   "cell_type": "markdown",
   "metadata": {},
   "source": [
    "$\\alpha=\\beta$"
   ]
  },
  {
   "cell_type": "code",
   "execution_count": 5,
   "metadata": {},
   "outputs": [
    {
     "name": "stdout",
     "output_type": "stream",
     "text": [
      "1\n"
     ]
    }
   ],
   "source": [
    "test = 1\n",
    "print(test)"
   ]
  },
  {
   "cell_type": "markdown",
   "metadata": {},
   "source": [
    "--------------"
   ]
  },
  {
   "cell_type": "markdown",
   "metadata": {},
   "source": [
    "$\\alpha=\\beta$"
   ]
  },
  {
   "cell_type": "code",
   "execution_count": 5,
   "metadata": {},
   "outputs": [
    {
     "name": "stdout",
     "output_type": "stream",
     "text": [
      "1\n"
     ]
    }
   ],
   "source": [
    "test = 1\n",
    "print(test)"
   ]
  },
  {
   "cell_type": "markdown",
   "metadata": {},
   "source": [
    "--------------"
   ]
  },
  {
   "cell_type": "markdown",
   "metadata": {},
   "source": [
    "$\\alpha=\\beta$"
   ]
  },
  {
   "cell_type": "code",
   "execution_count": 5,
   "metadata": {},
   "outputs": [
    {
     "name": "stdout",
     "output_type": "stream",
     "text": [
      "1\n"
     ]
    }
   ],
   "source": [
    "test = 1\n",
    "print(test)"
   ]
  },
  {
   "cell_type": "markdown",
   "metadata": {},
   "source": [
    "--------------"
   ]
  }
 ],
 "metadata": {
  "kernelspec": {
   "display_name": "Python 3",
   "language": "python",
   "name": "python3"
  },
  "language_info": {
   "codemirror_mode": {
    "name": "ipython",
    "version": 3
   },
   "file_extension": ".py",
   "mimetype": "text/x-python",
   "name": "python",
   "nbconvert_exporter": "python",
   "pygments_lexer": "ipython3",
   "version": "3.7.2"
  }
 },
 "nbformat": 4,
 "nbformat_minor": 2
}
